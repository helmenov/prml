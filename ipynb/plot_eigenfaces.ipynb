{
  "nbformat": 4,
  "nbformat_minor": 0,
  "metadata": {
    "kernelspec": {
      "name": "python3",
      "display_name": "Python 3"
    },
    "colab": {
      "name": "plot_eigenfaces.ipynb",
      "provenance": [],
      "collapsed_sections": [],
      "include_colab_link": true
    }
  },
  "cells": [
    {
      "cell_type": "markdown",
      "metadata": {
        "id": "view-in-github",
        "colab_type": "text"
      },
      "source": [
        "<a href=\"https://colab.research.google.com/github/tsakailab/prml/blob/master/ipynb/plot_eigenfaces.ipynb\" target=\"_parent\"><img src=\"https://colab.research.google.com/assets/colab-badge.svg\" alt=\"Open In Colab\"/></a>"
      ]
    },
    {
      "cell_type": "code",
      "metadata": {
        "id": "MIVRZ0bkBklV",
        "colab_type": "code",
        "colab": {}
      },
      "source": [
        "%matplotlib inline"
      ],
      "execution_count": 0,
      "outputs": []
    },
    {
      "cell_type": "markdown",
      "metadata": {
        "id": "iJL3C0N3BklY",
        "colab_type": "text"
      },
      "source": [
        "\n",
        "The eigenfaces example: chaining PCA and SVMs\n",
        "=============================================\n",
        "\n",
        "The goal of this example is to show how an unsupervised method and a\n",
        "supervised one can be chained for better prediction. It starts with a\n",
        "didactic but lengthy way of doing things, and finishes with the\n",
        "idiomatic approach to pipelining in scikit-learn.\n",
        "\n",
        "Here we'll take a look at a simple facial recognition example. Ideally,\n",
        "we would use a dataset consisting of a subset of the `Labeled Faces in\n",
        "the Wild <http://vis-www.cs.umass.edu/lfw/>`__ data that is available\n",
        "with :func:`sklearn.datasets.fetch_lfw_people`. However, this is a\n",
        "relatively large download (~200MB) so we will do the tutorial on a\n",
        "simpler, less rich dataset. Feel free to explore the LFW dataset.\n",
        "\n"
      ]
    },
    {
      "cell_type": "code",
      "metadata": {
        "id": "H2TyWN_cBklZ",
        "colab_type": "code",
        "colab": {}
      },
      "source": [
        "from sklearn import datasets\n",
        "faces = datasets.fetch_olivetti_faces()\n",
        "faces.data.shape"
      ],
      "execution_count": 0,
      "outputs": []
    },
    {
      "cell_type": "markdown",
      "metadata": {
        "id": "HSywBbxIBkld",
        "colab_type": "text"
      },
      "source": [
        "Let's visualize these faces to see what we're working with\n",
        "\n"
      ]
    },
    {
      "cell_type": "code",
      "metadata": {
        "id": "ZP3J2DRjBkld",
        "colab_type": "code",
        "colab": {}
      },
      "source": [
        "from matplotlib import pyplot as plt\n",
        "fig = plt.figure(figsize=(8, 6))\n",
        "# plot several images\n",
        "for i in range(15):\n",
        "    ax = fig.add_subplot(3, 5, i + 1, xticks=[], yticks=[])\n",
        "    ax.imshow(faces.images[i], cmap=plt.cm.bone)"
      ],
      "execution_count": 0,
      "outputs": []
    },
    {
      "cell_type": "markdown",
      "metadata": {
        "id": "uw-jKElXBklf",
        "colab_type": "text"
      },
      "source": [
        ".. tip::\n",
        "\n",
        "   Note is that these faces have already been localized and scaled to a\n",
        "   common size. This is an important preprocessing piece for facial\n",
        "   recognition, and is a process that can require a large collection of\n",
        "   training data. This can be done in scikit-learn, but the challenge is\n",
        "   gathering a sufficient amount of training data for the algorithm to work.\n",
        "   Fortunately, this piece is common enough that it has been done. One good\n",
        "   resource is\n",
        "   `OpenCV <http://opencv.willowgarage.com/wiki/FaceRecognition>`__, the\n",
        "   *Open Computer Vision Library*.\n",
        "\n",
        "We'll perform a Support Vector classification of the images. We'll do a\n",
        "typical train-test split on the images:\n",
        "\n"
      ]
    },
    {
      "cell_type": "code",
      "metadata": {
        "id": "UrEZWUGkBklg",
        "colab_type": "code",
        "colab": {}
      },
      "source": [
        "from sklearn.model_selection import train_test_split\n",
        "X_train, X_test, y_train, y_test = train_test_split(faces.data,\n",
        "        faces.target, random_state=0)\n",
        "\n",
        "print(X_train.shape, X_test.shape)"
      ],
      "execution_count": 0,
      "outputs": []
    },
    {
      "cell_type": "markdown",
      "metadata": {
        "id": "So5MFutYBklh",
        "colab_type": "text"
      },
      "source": [
        "Preprocessing: Principal Component Analysis\n",
        "-------------------------------------------\n",
        "\n",
        "1850 dimensions is a lot for SVM. We can use PCA to reduce these 1850\n",
        "features to a manageable size, while maintaining most of the information\n",
        "in the dataset.\n",
        "\n"
      ]
    },
    {
      "cell_type": "code",
      "metadata": {
        "id": "D9BjaZIDBkli",
        "colab_type": "code",
        "colab": {}
      },
      "source": [
        "from sklearn import decomposition\n",
        "pca = decomposition.PCA(n_components=150, whiten=True)\n",
        "pca.fit(X_train)"
      ],
      "execution_count": 0,
      "outputs": []
    },
    {
      "cell_type": "markdown",
      "metadata": {
        "id": "_2Fs8gUJBklk",
        "colab_type": "text"
      },
      "source": [
        "One interesting part of PCA is that it computes the \"mean\" face, which\n",
        "can be interesting to examine:\n",
        "\n"
      ]
    },
    {
      "cell_type": "code",
      "metadata": {
        "id": "CFhLzWIvBklk",
        "colab_type": "code",
        "colab": {}
      },
      "source": [
        "plt.imshow(pca.mean_.reshape(faces.images[0].shape),\n",
        "           cmap=plt.cm.bone)"
      ],
      "execution_count": 0,
      "outputs": []
    },
    {
      "cell_type": "markdown",
      "metadata": {
        "id": "mGQ8oGTWBklm",
        "colab_type": "text"
      },
      "source": [
        "The principal components measure deviations about this mean along\n",
        "orthogonal axes.\n",
        "\n"
      ]
    },
    {
      "cell_type": "code",
      "metadata": {
        "id": "g-aV_rAZBkln",
        "colab_type": "code",
        "colab": {}
      },
      "source": [
        "print(pca.components_.shape)"
      ],
      "execution_count": 0,
      "outputs": []
    },
    {
      "cell_type": "markdown",
      "metadata": {
        "id": "b0qK3qe5Bklp",
        "colab_type": "text"
      },
      "source": [
        "It is also interesting to visualize these principal components:\n",
        "\n"
      ]
    },
    {
      "cell_type": "code",
      "metadata": {
        "id": "pKPZVxvRBklq",
        "colab_type": "code",
        "colab": {}
      },
      "source": [
        "fig = plt.figure(figsize=(16, 6))\n",
        "for i in range(30):\n",
        "    ax = fig.add_subplot(3, 10, i + 1, xticks=[], yticks=[])\n",
        "    ax.imshow(pca.components_[i].reshape(faces.images[0].shape),\n",
        "              cmap=plt.cm.bone)"
      ],
      "execution_count": 0,
      "outputs": []
    },
    {
      "cell_type": "markdown",
      "metadata": {
        "id": "j0AvRRM6Bkls",
        "colab_type": "text"
      },
      "source": [
        "The components (\"eigenfaces\") are ordered by their importance from\n",
        "top-left to bottom-right. We see that the first few components seem to\n",
        "primarily take care of lighting conditions; the remaining components\n",
        "pull out certain identifying features: the nose, eyes, eyebrows, etc.\n",
        "\n",
        "With this projection computed, we can now project our original training\n",
        "and test data onto the PCA basis:\n",
        "\n"
      ]
    },
    {
      "cell_type": "code",
      "metadata": {
        "id": "gUSys-6bBkls",
        "colab_type": "code",
        "colab": {}
      },
      "source": [
        "X_train_pca = pca.transform(X_train)\n",
        "X_test_pca = pca.transform(X_test)\n",
        "print(X_train_pca.shape)"
      ],
      "execution_count": 0,
      "outputs": []
    },
    {
      "cell_type": "code",
      "metadata": {
        "id": "X5GJ-t_HBklv",
        "colab_type": "code",
        "colab": {}
      },
      "source": [
        "print(X_test_pca.shape)"
      ],
      "execution_count": 0,
      "outputs": []
    },
    {
      "cell_type": "markdown",
      "metadata": {
        "id": "VkqrWkBjBklx",
        "colab_type": "text"
      },
      "source": [
        "These projected components correspond to factors in a linear combination\n",
        "of component images such that the combination approaches the original\n",
        "face.\n",
        "\n",
        "Doing the Learning: Support Vector Machines\n",
        "-------------------------------------------\n",
        "\n",
        "Now we'll perform support-vector-machine classification on this reduced\n",
        "dataset:\n",
        "\n"
      ]
    },
    {
      "cell_type": "code",
      "metadata": {
        "id": "oxWYCFRQBkly",
        "colab_type": "code",
        "colab": {}
      },
      "source": [
        "from sklearn import svm\n",
        "clf = svm.SVC(C=5., gamma=0.001)\n",
        "clf.fit(X_train_pca, y_train)"
      ],
      "execution_count": 0,
      "outputs": []
    },
    {
      "cell_type": "markdown",
      "metadata": {
        "id": "kbcx9yJZBkl1",
        "colab_type": "text"
      },
      "source": [
        "Finally, we can evaluate how well this classification did. First, we\n",
        "might plot a few of the test-cases with the labels learned from the\n",
        "training set:\n",
        "\n"
      ]
    },
    {
      "cell_type": "code",
      "metadata": {
        "id": "A0zDK8yiBkl2",
        "colab_type": "code",
        "colab": {}
      },
      "source": [
        "import numpy as np\n",
        "fig = plt.figure(figsize=(8, 6))\n",
        "for i in range(15):\n",
        "    ax = fig.add_subplot(3, 5, i + 1, xticks=[], yticks=[])\n",
        "    ax.imshow(X_test[i].reshape(faces.images[0].shape),\n",
        "              cmap=plt.cm.bone)\n",
        "    y_pred = clf.predict(X_test_pca[i, np.newaxis])[0]\n",
        "    color = ('black' if y_pred == y_test[i] else 'red')\n",
        "    ax.set_title(faces.target[y_pred],\n",
        "                 fontsize='small', color=color)"
      ],
      "execution_count": 0,
      "outputs": []
    },
    {
      "cell_type": "markdown",
      "metadata": {
        "id": "gQ-iZJGhBkl3",
        "colab_type": "text"
      },
      "source": [
        "The classifier is correct on an impressive number of images given the\n",
        "simplicity of its learning model! Using a linear classifier on 150\n",
        "features derived from the pixel-level data, the algorithm correctly\n",
        "identifies a large number of the people in the images.\n",
        "\n",
        "Again, we can quantify this effectiveness using one of several measures\n",
        "from :mod:`sklearn.metrics`. First we can do the classification\n",
        "report, which shows the precision, recall and other measures of the\n",
        "\"goodness\" of the classification:\n",
        "\n"
      ]
    },
    {
      "cell_type": "code",
      "metadata": {
        "id": "pZm64mpcBkl4",
        "colab_type": "code",
        "colab": {}
      },
      "source": [
        "from sklearn import metrics\n",
        "y_pred = clf.predict(X_test_pca)\n",
        "print(metrics.classification_report(y_test, y_pred))"
      ],
      "execution_count": 0,
      "outputs": []
    },
    {
      "cell_type": "markdown",
      "metadata": {
        "id": "Eju2qbXiBkl6",
        "colab_type": "text"
      },
      "source": [
        "Another interesting metric is the *confusion matrix*, which indicates\n",
        "how often any two items are mixed-up. The confusion matrix of a perfect\n",
        "classifier would only have nonzero entries on the diagonal, with zeros\n",
        "on the off-diagonal:\n",
        "\n"
      ]
    },
    {
      "cell_type": "code",
      "metadata": {
        "id": "wnlYWi87Bkl7",
        "colab_type": "code",
        "colab": {}
      },
      "source": [
        "print(metrics.confusion_matrix(y_test, y_pred))"
      ],
      "execution_count": 0,
      "outputs": []
    },
    {
      "cell_type": "markdown",
      "metadata": {
        "id": "HnrAhKbzBkl8",
        "colab_type": "text"
      },
      "source": [
        "Pipelining\n",
        "----------\n",
        "\n",
        "Above we used PCA as a pre-processing step before applying our support\n",
        "vector machine classifier. Plugging the output of one estimator directly\n",
        "into the input of a second estimator is a commonly used pattern; for\n",
        "this reason scikit-learn provides a ``Pipeline`` object which automates\n",
        "this process. The above problem can be re-expressed as a pipeline as\n",
        "follows:\n",
        "\n"
      ]
    },
    {
      "cell_type": "code",
      "metadata": {
        "id": "UwKcFDdWBkl9",
        "colab_type": "code",
        "colab": {}
      },
      "source": [
        "from sklearn.pipeline import Pipeline\n",
        "clf = Pipeline([('pca', decomposition.PCA(n_components=150, whiten=True)),\n",
        "                ('svm', svm.LinearSVC(C=1.0))])\n",
        "\n",
        "clf.fit(X_train, y_train)\n",
        "\n",
        "y_pred = clf.predict(X_test)\n",
        "print(metrics.confusion_matrix(y_pred, y_test))\n",
        "plt.show()"
      ],
      "execution_count": 0,
      "outputs": []
    },
    {
      "cell_type": "markdown",
      "metadata": {
        "id": "gCPHxkinBkl_",
        "colab_type": "text"
      },
      "source": [
        "A Note on Facial Recognition\n",
        "----------------------------\n",
        "\n",
        "Here we have used PCA \"eigenfaces\" as a pre-processing step for facial\n",
        "recognition. The reason we chose this is because PCA is a\n",
        "broadly-applicable technique, which can be useful for a wide array of\n",
        "data types. Research in the field of facial recognition in particular,\n",
        "however, has shown that other more specific feature extraction methods\n",
        "are can be much more effective.\n",
        "\n"
      ]
    }
  ]
}