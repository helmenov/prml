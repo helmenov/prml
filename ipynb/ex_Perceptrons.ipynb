{
  "nbformat": 4,
  "nbformat_minor": 0,
  "metadata": {
    "colab": {
      "provenance": [],
      "collapsed_sections": [
        "-KmrX-7HqF9d",
        "UW1hl94VG9Z8"
      ],
      "include_colab_link": true
    },
    "kernelspec": {
      "name": "python3",
      "display_name": "Python 3"
    }
  },
  "cells": [
    {
      "cell_type": "markdown",
      "metadata": {
        "id": "view-in-github",
        "colab_type": "text"
      },
      "source": [
        "<a href=\"https://colab.research.google.com/github/tsakailab/prml/blob/master/ipynb/ex_Perceptrons.ipynb\" target=\"_parent\"><img src=\"https://colab.research.google.com/assets/colab-badge.svg\" alt=\"Open In Colab\"/></a>"
      ]
    },
    {
      "cell_type": "markdown",
      "source": [
        "# パーセプトロンの動作について学ぶ（Behavior of perceptrons）\n",
        "----\n",
        "\n",
        "氏名：\n",
        "\n",
        "学生番号：\n",
        "\n",
        "----\n",
        "[A Neural Network Playground](http://playground.tensorflow.org/)を用いて，パーセプトロンの振る舞い考察しましょう．\n",
        "Playground詳しい説明は[ここにあります](https://cloud.google.com/blog/products/ai-machine-learning/understanding-neural-networks-with-tensorflow-playground)．\n",
        "\n",
        "以下の課題に取り組む際の注意です．\n",
        "- \"Run/Pause\"の左のボタン\"Reset the network\"を用いて反復試行すること．必ず同じモデルに収束するとは限りません．\n",
        "- 左下の\"[REGENERATE]\"で再生成したデータも試すこと．特定のデータについてではなく，普遍的に言える事柄を見つけましょう．\n",
        "- 十分収束するまで観察すること．学習中のモデルよりも必ず良いモデルに収束するのでしょうか．\n",
        "- 右下の\"Show test data\"で表示されるデータ（訓練データ以外のデータ）に対しても識別できているかどうかで評価すること．\n",
        "\n",
        "特に，訓練データが少なく，ノイズの影響も無視できない問題設定にすると，考察に有益です．  \n",
        "Ratio of training to test data: 20%，Noise: 25 の設定で実験します．\n",
        "\n",
        "(a) [モデル：単純パーセプトロン，　データセット：\"Gaussian\"](https://playground.tensorflow.org/#activation=sigmoid&batchSize=10&dataset=gauss&regDataset=reg-plane&learningRate=0.03&regularizationRate=0.01&noise=30&networkShape=&seed=0.85984&showTestData=false&discretize=true&percTrainData=20&x=true&y=true&xTimesY=false&xSquared=false&ySquared=false&cosX=false&sinX=false&cosY=false&sinY=false&collectStats=false&problem=classification&initZero=false&hideText=false&batchSize_hide=false)\n",
        "\n",
        "(b) [モデル：3層パーセプトロン，　データセット：\"Circle\"](https://playground.tensorflow.org/#activation=sigmoid&batchSize=10&dataset=circle&regDataset=reg-plane&learningRate=0.3&regularizationRate=0.01&noise=25&networkShape=1&seed=0.28240&showTestData=false&discretize=true&percTrainData=20&x=true&y=true&xTimesY=false&xSquared=false&ySquared=false&cosX=false&sinX=false&cosY=false&sinY=false&collectStats=false&problem=classification&initZero=false&hideText=false&batchSize_hide=false)\n",
        "\n",
        "(c) [モデル：単純パーセプトロン，データセット：\"Circle\"](https://playground.tensorflow.org/#activation=sigmoid&batchSize=10&dataset=circle&regDataset=reg-plane&learningRate=0.3&regularizationRate=0.01&noise=25&networkShape=&seed=0.64557&showTestData=false&discretize=true&percTrainData=20&x=true&y=true&xTimesY=true&xSquared=true&ySquared=true&cosX=false&sinX=true&cosY=false&sinY=true&collectStats=false&problem=classification&initZero=false&hideText=false&batchSize_hide=false)\n",
        "\n",
        "まず，(a)で，単純パーセプトロンが線形識別器であることを確認してから，課題に着手しましょう．"
      ],
      "metadata": {
        "id": "b_Ll73T9wjPp"
      }
    },
    {
      "cell_type": "markdown",
      "source": [
        "----\n",
        "## 基本課題（必須）\n",
        "\n",
        "    1. (b)では，中間層に何個以上のノード（neurons）が必要ですか．その理由を述べてください（結果論は不可です）．\n",
        "      また，多数のノード（例えば8個）で学習を続けると，どのような問題が生じますか．\n",
        "\n",
        "（ここに回答を書いてください）\n",
        "\n",
        "\n",
        "\n",
        "    2. (c)のモデルは単純パーセプトロンなのに，決定境界が直線でないのはなぜですか．\n",
        "      また，入力に使われているどの特徴が強く使われる傾向がありますか．\n",
        "\n",
        "（ここに回答を書いてください）\n",
        "\n",
        "\n",
        "\n",
        "    3. 正則化（regularization）を\"L1\"に設定すると，モデルに特徴を選択させる学習の効果があります．この効果を(c)の例で具体的に説明してください．\n",
        "\n",
        "（ここに回答を書いてください）\n",
        "\n",
        "\n",
        "\n",
        "    4.その他，気づいたこと，調べたことがあれば書いてください．\n",
        "\n",
        "（ここに回答を書いてください）\n",
        "\n",
        "\n"
      ],
      "metadata": {
        "id": "-KmrX-7HqF9d"
      }
    },
    {
      "cell_type": "markdown",
      "metadata": {
        "id": "UW1hl94VG9Z8"
      },
      "source": [
        "----\n",
        "## 発展課題（任意）\n",
        "\n",
        "Playgroundの右上に表示される \"Test loss\"，\"Training loss\" について考えましょう．\n"
      ]
    },
    {
      "cell_type": "code",
      "metadata": {
        "id": "qPcFoZwoU2fp",
        "cellView": "form"
      },
      "source": [
        "#@title 例題用のデータを生成します．\n",
        "import numpy as np\n",
        "npos = 30\n",
        "nneg = 30\n",
        "np.random.seed(321)\n",
        "X = np.r_[np.random.randn(npos, 2) + [3, 3], np.random.randn(nneg, 2)]\n",
        "# [1,1,...,1,-1,-1,...,-1]\n",
        "y = np.array([1] * npos + [-1] * nneg)"
      ],
      "execution_count": null,
      "outputs": []
    },
    {
      "cell_type": "code",
      "source": [
        "#@title グラフを描くクラスを定義します．\n",
        "import numpy as np\n",
        "from matplotlib import pyplot as plt\n",
        "from matplotlib.colors import TwoSlopeNorm as tsn\n",
        "\n",
        "class plot2cls:\n",
        "    def __init__(self, X_train, y_train, decision_function=None, X_val=None, y_val=None, dx=0.02, cmap=plt.cm.bwr, xlim=None, ylim=None, margin=0.5, levels=None, colors='k', bins=None):\n",
        "        self.data = {'train': {'X': X_train, 'y': y_train}, 'val': {'X':X_val, 'y': y_val}}\n",
        "        self.clf = decision_function\n",
        "        if X_val is not None:\n",
        "            xlim = [X_val[:, 0].min(), X_val[:, 0].max()]\n",
        "            ylim = [X_val[:, 1].min(), X_val[:, 1].max()]\n",
        "        else:\n",
        "            xlim = [float('inf'), - float('inf')]\n",
        "            ylim = [float('inf'), - float('inf')]\n",
        "        xlim[0] = min(xlim[0], X_train[:, 0].min()) - margin\n",
        "        xlim[1] = max(xlim[1], X_train[:, 0].max()) + margin\n",
        "        ylim[0] = min(ylim[0], X_train[:, 1].min()) - margin\n",
        "        ylim[1] = max(ylim[1], X_train[:, 1].max()) + margin\n",
        "        if bins is None:\n",
        "            bins = len(y_train) // 4\n",
        "        self.layout = {'dx': dx, 'cmap': cmap, 'xlim': xlim, 'ylim': ylim, 'levels': levels, 'colors': colors, 'bins': bins}\n",
        "\n",
        "\n",
        "    def _data_layout(self, ax):\n",
        "        ax.set_xlim(self.layout['xlim'][0], self.layout['xlim'][1])\n",
        "        ax.set_ylim(self.layout['ylim'][0], self.layout['ylim'][1])\n",
        "        #plt.axis('tight')\n",
        "        plt.xlabel('x1', fontsize=16)\n",
        "        plt.ylabel('x2', fontsize=16)\n",
        "        plt.xticks(fontsize=16)\n",
        "        plt.yticks(fontsize=16)\n",
        "        ax.set_aspect('equal')\n",
        "        plt.tight_layout()\n",
        "\n",
        "\n",
        "    def _scatter(self, ax, X, y, c=['r', 'b'], marker=['s', 'o'], label=None, alpha=1):\n",
        "        ax.scatter(X[y>0, 0], X[y>0, 1], c=c[0],  marker=marker[0], cmap=self.layout['cmap'], edgecolors='k', label=label+'(+)', alpha=alpha)\n",
        "        ax.scatter(X[y<=0, 0], X[y<=0, 1], c=c[1], marker=marker[1], cmap=self.layout['cmap'], edgecolors='k', label=label+'(-)', alpha=alpha)\n",
        "\n",
        "\n",
        "    def _put_data(self, ax, alpha):\n",
        "        if self.clf is not None:\n",
        "            xx, yy = np.meshgrid(np.arange(self.layout['xlim'][0], self.layout['xlim'][1], self.layout['dx']), np.arange(self.layout['ylim'][0], self.layout['ylim'][1], self.layout['dx']))\n",
        "\n",
        "            # Show prediction by color by assigning a color to each point in the mesh [x_min, x_max]x[y_min, y_max].\n",
        "            Z = self.clf(np.c_[xx.ravel(), yy.ravel()])\n",
        "            # Put the result into a color plot\n",
        "            Z = Z.reshape(xx.shape)\n",
        "            norm = tsn(vmin=np.minimum(Z[:].min(),-1e-6), vcenter=0, vmax=np.maximum(Z[:].max(),1e-6))\n",
        "            ax.pcolor(xx, yy, Z, cmap=self.layout['cmap'], alpha=0.1, edgecolors=None, norm=norm)\n",
        "            if self.layout['levels'] is not None:\n",
        "                lvls = list(self.layout['levels'].keys())\n",
        "                linestyles = list(self.layout['levels'].values())\n",
        "                ax.contour(xx, yy, Z, levels=lvls, colors=self.layout['colors'], linestyles=linestyles, alpha=0.5)\n",
        "\n",
        "        self._scatter(ax, self.data['train']['X'], self.data['train']['y'], label='Training data', alpha=alpha)\n",
        "        if self.data['val']['X'] is not None and self.data['val']['y'] is not None:\n",
        "            self._scatter(ax, self.data['val']['X'], self.data['val']['y'], c=['k', 'k'], label='Validation data', alpha=alpha)\n",
        "            plt.legend(loc=\"upper right\", fontsize=16, frameon=True)\n",
        "            ax.get_legend().legendHandles[2].set_color('k')\n",
        "            ax.get_legend().legendHandles[3].set_color('k')\n",
        "\n",
        "\n",
        "    def plot_data(self):\n",
        "        ax = plt.figure()\n",
        "        ax = plt.axes()\n",
        "        self._put_data(ax, alpha=1)\n",
        "        self._data_layout(ax)\n",
        "\n",
        "\n",
        "    def _hist_layout(self, ax):\n",
        "        plt.xlabel(\"$g(x)$\", fontsize=16)\n",
        "        plt.ylabel(\"Frequency\", fontsize=16)\n",
        "        plt.legend(loc=\"upper right\", fontsize=16, frameon=True)\n",
        "        plt.axis('tight')\n",
        "        plt.xticks(fontsize=16)\n",
        "        plt.yticks(fontsize=16)\n",
        "        #plt.gca().yaxis.set_major_formatter(FormatStrFormatter('%1.0f'))\n",
        "        from matplotlib.ticker import FormatStrFormatter\n",
        "        ax.yaxis.set_major_formatter(FormatStrFormatter('%1.0f'))\n",
        "        ax.set_aspect(0.8)\n",
        "        plt.tight_layout()\n",
        "\n",
        "\n",
        "    def _make_hist(self, ax):\n",
        "        if self.clf is None:\n",
        "            return\n",
        "        pred = self.clf(self.data['train']['X'])\n",
        "        gt = self.data['train']['y']\n",
        "        ax.hist( [ pred[gt>0], pred[gt<=0] ], bins=self.layout['bins'], histtype='stepfilled', density=False, alpha=0.5, color=['r', 'b'], label=['Training data(+)', 'Training data(-)'])\n",
        "        if self.data['val']['X'] is not None and self.data['val']['y'] is not None:\n",
        "            pred = self.clf(self.data['test']['X'])\n",
        "            gt = self.data['test']['y']\n",
        "            ax.hist( [ pred[gt>0], pred[gt<=0] ], bins=self.layout['bins'], histtype='stepfilled', density=False, alpha=0.3, color=['r', 'b'], label=['Validation data(+)', 'Validation data(-)'])\n",
        "\n",
        "\n",
        "    def plot_hist(self):\n",
        "        ax = plt.figure()\n",
        "        ax = plt.axes()\n",
        "        self._make_hist(ax)\n",
        "        self._hist_layout(ax)\n",
        "\n",
        "\n",
        "    def plot_clf(self):\n",
        "        if self.clf is None:\n",
        "            return\n",
        "\n",
        "        fig, axes = plt.subplots(figsize=(12,8), nrows=1, ncols=2)\n",
        "        ax = axes[0]\n",
        "        self._put_data(ax, alpha=1)\n",
        "        self._data_layout(ax)\n",
        "\n",
        "        ax = axes[1]\n",
        "        self._make_hist(ax)\n",
        "        self._hist_layout(ax)"
      ],
      "metadata": {
        "cellView": "form",
        "id": "VvmOmGO2jR-Z"
      },
      "execution_count": null,
      "outputs": []
    },
    {
      "cell_type": "markdown",
      "source": [
        "### 損失関数を定義します．"
      ],
      "metadata": {
        "id": "bSLGHQlGrBb6"
      }
    },
    {
      "cell_type": "code",
      "metadata": {
        "id": "NJxRr0_4G9aI"
      },
      "source": [
        "import numpy as np\n",
        "\n",
        "def LogisticLoss(y, g):\n",
        "    return np.mean(np.log(1 + np.exp(-y*g)))\n",
        "\n",
        "def HingeLoss(y, g):\n",
        "    return np.mean(np.maximum(1.0 - y*g, 0))\n",
        "\n",
        "# 線形識別関数\n",
        "def g(X, w):\n",
        "    return w[0] + np.dot(X, w[1:])"
      ],
      "execution_count": null,
      "outputs": []
    },
    {
      "cell_type": "markdown",
      "source": [
        "### $[w_0, w_1, w_2]^\\top$はパーセプトロンの重みです．表示される損失関数の値がなるべく小さくなるように調整してください．\n",
        "    1. どのようなとき，損失が大きく・小さくなりますか．\n",
        "\n",
        "（ここに回答を書いてください）\n",
        "\n",
        "\n",
        "    2. w0, w1, w2 によって決定境界はどのように変わりますか．\n",
        "\n",
        "（ここに回答を書いてください）\n",
        "\n",
        "\n"
      ],
      "metadata": {
        "id": "7FUjbZ2jrXbX"
      }
    },
    {
      "cell_type": "code",
      "metadata": {
        "id": "eIQAY-CgG9ah",
        "cellView": "form"
      },
      "source": [
        "from sklearn.linear_model import Hinge\n",
        "#@title {run: \"auto\"}\n",
        "w0 = 0.1 #@param{type:\"slider\", min:-5, max:5, step:0.1}\n",
        "w1 = -1 #@param{type:\"slider\", min:-5, max:5, step:0.1}\n",
        "w2 = 1.7 #@param{type:\"slider\", min:-5, max:5, step:0.1}\n",
        "w = np.array( [w0, w1, w2] )\n",
        "\n",
        "ll = LogisticLoss(y, g(X, w))\n",
        "hl = HingeLoss(y, g(X, w))\n",
        "print(\"Logistic loss = %f,  Hinge loss =%f\" % (ll, hl))\n",
        "plotter = plot2cls(X, y, lambda X: g(X, w), levels={0.0:'-'}, dx=0.2)\n",
        "plotter.plot_clf()\n",
        "#plotter.plot_data()\n",
        "#plotter.plot_hist()"
      ],
      "execution_count": null,
      "outputs": []
    }
  ]
}