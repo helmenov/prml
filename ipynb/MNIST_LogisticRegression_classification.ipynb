{
 "cells": [
  {
   "cell_type": "code",
   "execution_count": null,
   "metadata": {
    "colab": {
     "autoexec": {
      "startup": false,
      "wait_interval": 0
     }
    },
    "colab_type": "code",
    "id": "YxG9BhBAn2nx"
   },
   "outputs": [],
   "source": [
    "%matplotlib inline"
   ]
  },
  {
   "cell_type": "markdown",
   "metadata": {
    "colab_type": "text",
    "id": "UTNIg2oEn2n8"
   },
   "source": [
    "\n",
    "Logistic regression of the MNIST digits dataset\n",
    "=============================================================\n"
   ]
  },
  {
   "cell_type": "markdown",
   "metadata": {
    "colab_type": "text",
    "id": "w_x3f0OTmvtq"
   },
   "source": [
    "\n",
    "Fetch the MNIST digits dataset\n",
    "------------------------------------\n",
    "If fail, retry after rebooting the runtime or kernel."
   ]
  },
  {
   "cell_type": "code",
   "execution_count": null,
   "metadata": {
    "colab": {
     "autoexec": {
      "startup": false,
      "wait_interval": 0
     }
    },
    "colab_type": "code",
    "id": "SmeXiuhWn2n-"
   },
   "outputs": [],
   "source": [
    "import numpy as np\n",
    "from sklearn.datasets import fetch_openml\n",
    "print(\"Downloading the MNIST digits dataset .. \")\n",
    "X_all, y_all = fetch_openml('mnist_784', version=1, return_X_y=True)\n",
    "print(\"done\")\n",
    "Ximages = np.reshape(X_all, (X_all.shape[0],28,28))\n",
    "\n",
    "print(X_all.shape)\n",
    "X_all = X_all / X_all.max()\n",
    "y_all = np.int64(y_all)"
   ]
  },
  {
   "cell_type": "markdown",
   "metadata": {
    "colab_type": "text",
    "id": "FWmkMoJrn2oH"
   },
   "source": [
    "Plot the data: images of digits\n",
    "-------------------------------\n"
   ]
  },
  {
   "cell_type": "code",
   "execution_count": null,
   "metadata": {
    "colab": {
     "autoexec": {
      "startup": false,
      "wait_interval": 0
     }
    },
    "colab_type": "code",
    "id": "E7Ib1PU2n2oK"
   },
   "outputs": [],
   "source": [
    "from matplotlib import pyplot as plt\n",
    "fig = plt.figure(figsize=(6, 6))  # figure size in inches\n",
    "fig.subplots_adjust(left=0, right=1, bottom=0, top=1, hspace=0.05, wspace=0.05)\n",
    "print(\"64 out of %d images\" % len(y_all))\n",
    "\n",
    "p = np.random.randint(0, len(y_all), 64)\n",
    "for i in range(64):\n",
    "    ax = fig.add_subplot(8, 8, i + 1, xticks=[], yticks=[])\n",
    "    ax.imshow(Ximages[p[i]], cmap=plt.cm.gray)\n",
    "    # label the image with the target value\n",
    "    ax.text(0, 7, str(y_all[p[i]]), color='white')"
   ]
  },
  {
   "cell_type": "markdown",
   "metadata": {
    "colab_type": "text",
    "id": "76r4Ic8VAj_g"
   },
   "source": [
    "Choose two classes if you enjoy binary classification\n",
    "-----------------------------------------------------------------\n",
    "Skip this cell for ten classes."
   ]
  },
  {
   "cell_type": "code",
   "execution_count": null,
   "metadata": {
    "colab": {
     "autoexec": {
      "startup": false,
      "wait_interval": 0
     }
    },
    "colab_type": "code",
    "id": "EVowqB1Z_Pcs"
   },
   "outputs": [],
   "source": [
    "c = 2\n",
    "pos = 1 # choose from 0 to 9\n",
    "neg = 0 # choose from 0 to 9\n",
    "\n",
    "X = X_all[np.logical_or(y_all == pos, y_all == neg),:]\n",
    "y = y_all[np.logical_or(y_all == pos, y_all == neg)]\n",
    "yp, yn = y == pos, y== neg\n",
    "y[yp] = 1\n",
    "y[yn] = 0\n",
    "lbl = [neg, pos]"
   ]
  },
  {
   "cell_type": "markdown",
   "metadata": {},
   "source": [
    "Choose all ten classes\n",
    "-----------------------------------------------------------------\n",
    "Skip this cell for binary classification."
   ]
  },
  {
   "cell_type": "code",
   "execution_count": null,
   "metadata": {},
   "outputs": [],
   "source": [
    "c = 10\n",
    "lbl = range(c)\n",
    "X = X_all\n",
    "y = y_all"
   ]
  },
  {
   "cell_type": "markdown",
   "metadata": {
    "colab_type": "text",
    "id": "4K4_PPXUrNUX"
   },
   "source": [
    "Split the data into training and test sets\n",
    "--------------------------------------------------\n",
    "https://scikit-learn.org/stable/modules/generated/sklearn.model_selection.train_test_split.html"
   ]
  },
  {
   "cell_type": "code",
   "execution_count": null,
   "metadata": {
    "colab": {
     "autoexec": {
      "startup": false,
      "wait_interval": 0
     }
    },
    "colab_type": "code",
    "id": "8wAC7L19rJWR"
   },
   "outputs": [],
   "source": [
    "from sklearn.model_selection import train_test_split\n",
    "\n",
    "# split the data into training and validation sets\n",
    "X_train, X_test, y_train, y_test = train_test_split(X, y, test_size=0.2)\n",
    "if len(y_test) > 2000:\n",
    "    X_test = X_test[:2000,:]\n",
    "    y_test = y_test[:2000]\n",
    "\n",
    "print(\"(#training data, dim.)=\", X_train.shape)\n",
    "print(\"(#test data,)=\", X_test.shape)"
   ]
  },
  {
   "cell_type": "markdown",
   "metadata": {
    "colab_type": "text",
    "id": "UQFrBwjAn2oS"
   },
   "source": [
    "Run the training (Caution! This will take a few minutes)\n",
    "---------------------------------\n",
    "https://scikit-learn.org/stable/modules/generated/sklearn.linear_model.LogisticRegression.html"
   ]
  },
  {
   "cell_type": "code",
   "execution_count": null,
   "metadata": {
    "colab": {
     "autoexec": {
      "startup": false,
      "wait_interval": 0
     }
    },
    "colab_type": "code",
    "id": "EgIqtl7Yn2oU"
   },
   "outputs": [],
   "source": [
    "# train the model\n",
    "from sklearn.linear_model import LogisticRegression\n",
    "#clf = LogisticRegression(solver= 'lbfgs', multi_class='multinomial')\n",
    "clf =  LogisticRegression(C=100. / len(y_train), multi_class='multinomial', penalty='l2', solver='saga', tol=0.1)\n",
    "clf.fit(X_train, y_train)"
   ]
  },
  {
   "cell_type": "code",
   "execution_count": null,
   "metadata": {
    "colab": {
     "autoexec": {
      "startup": false,
      "wait_interval": 0
     }
    },
    "colab_type": "code",
    "id": "3aOkEZvFtNrN"
   },
   "outputs": [],
   "source": [
    "# use the model to predict the labels of the test data\n",
    "predicted = clf.predict(X_test)\n",
    "expected = y_test\n",
    "\n",
    "# Plot the prediction\n",
    "fig = plt.figure(figsize=(6, 6))  # figure size in inches\n",
    "fig.subplots_adjust(left=0, right=1, bottom=0, top=1, hspace=0.05, wspace=0.05)\n",
    "\n",
    "# plot the digits\n",
    "idx64 = np.random.choice(len(y_test), 64, replace=False)\n",
    "for j in range(64):\n",
    "    i = idx64[j]\n",
    "    ax = fig.add_subplot(8, 8, j + 1, xticks=[], yticks=[])\n",
    "    ax.imshow(X_test.reshape(-1, Ximages.shape[1], Ximages.shape[2])[i], cmap=plt.cm.gray)\n",
    "\n",
    "    # label the image with the target value\n",
    "    ax.text(0, 7, str(lbl[expected[i]]), color='white')\n",
    "    if predicted[i] == expected[i]:\n",
    "        ax.text(21, 7, str(lbl[predicted[i]]), color='#a0ffa0')\n",
    "    else:\n",
    "        ax.text(21, 7, str(lbl[predicted[i]]), color='red')\n",
    "\n",
    "# the number of correct matches / the total number of data points\n",
    "matches = (predicted == expected)\n",
    "score = matches.sum()/float(len(matches))\n",
    "print(\"%d / %d = %2.1f %%\" % (matches.sum(), len(matches), 100*score))"
   ]
  },
  {
   "cell_type": "markdown",
   "metadata": {
    "colab_type": "text",
    "id": "O5TbZ0ilIytj"
   },
   "source": [
    "Visualize the weights and classification\n",
    "-------------------------------------------------\n",
    "Retry this cell to see another result on a randomly chosen test image. "
   ]
  },
  {
   "cell_type": "code",
   "execution_count": null,
   "metadata": {
    "colab": {
     "autoexec": {
      "startup": false,
      "wait_interval": 0
     }
    },
    "colab_type": "code",
    "id": "gsq8EA2ezHEv"
   },
   "outputs": [],
   "source": [
    "w = np.c_[clf.intercept_, clf.coef_]\n",
    "print(w.shape)\n",
    "\n",
    "# Plot the weights\n",
    "fig = plt.figure(figsize=(12, 3))  # figure size in inches\n",
    "fig.subplots_adjust(left=0, right=1, bottom=0, top=1, hspace=0.05, wspace=0.05)\n",
    "cmap = plt.cm.seismic\n",
    "\n",
    "jtest = np.random.randint(len(y_test),size=1) # draw one test sample\n",
    "vmin = w[:,1:].min()\n",
    "vmax = -vmin\n",
    "xmax=max(X_test[jtest,:].ravel())\n",
    "\n",
    "if c == 2:\n",
    "    c = 1\n",
    "for k in range(c):\n",
    "  \n",
    "    ax = fig.add_subplot(3, c, k + 1, xticks=[], yticks=[])\n",
    "    ax.imshow(w[k,1:].reshape(Ximages.shape[1], Ximages.shape[2]),  vmin=vmin,vmax=vmax, cmap=cmap)\n",
    "    if c == 1:\n",
    "        ax.text(0, 4, str(lbl[c]) + ' ?', color='k')\n",
    "    else:\n",
    "        ax.text(0, 4, str(lbl[k]) + ' ?', color='k')\n",
    "\n",
    "    ax = fig.add_subplot(3, c, k + c + 1, xticks=[], yticks=[])\n",
    "    ax.imshow(X_test[jtest,:].reshape(Ximages.shape[1], Ximages.shape[2]), cmap=plt.cm.gray)\n",
    "    ax.text(0, 7, str(lbl[expected[jtest][0]]), color='white')\n",
    "\n",
    "    wXk = X_test[jtest,:].ravel()*w[k,1:]\n",
    "    ax = fig.add_subplot(3, c, k + 2*c + 1, xticks=[], yticks=[])\n",
    "    ax.imshow(wXk.reshape(Ximages.shape[1], Ximages.shape[2]), vmin=vmin*xmax, vmax=vmax*xmax, cmap=cmap)\n",
    "    g = wXk.sum()+w[k,0]\n",
    "    if g >= 0:\n",
    "        color='r'\n",
    "    else:\n",
    "        color='b'\n",
    "    ax.text(0, 4, str(lbl[predicted[jtest][0]]), color=color)\n",
    "    ax.text(0, 33, '$g=$'+'{:.1f}'.format(g), fontsize=max(6+2*g,10), color=color)"
   ]
  },
  {
   "cell_type": "markdown",
   "metadata": {
    "colab_type": "text",
    "id": "hBV1KmWTn2oa"
   },
   "source": [
    "Quantify the performance detail\n",
    "------------------------\n",
    "\n"
   ]
  },
  {
   "cell_type": "markdown",
   "metadata": {
    "colab_type": "text",
    "id": "q8Q9Hvw3n2oc"
   },
   "source": [
    "Print the classification report\n",
    "\n"
   ]
  },
  {
   "cell_type": "code",
   "execution_count": null,
   "metadata": {
    "colab": {
     "autoexec": {
      "startup": false,
      "wait_interval": 0
     }
    },
    "colab_type": "code",
    "id": "is9z76Bdn2oe"
   },
   "outputs": [],
   "source": [
    "from sklearn import metrics\n",
    "print(metrics.classification_report(expected, predicted))"
   ]
  },
  {
   "cell_type": "markdown",
   "metadata": {
    "colab_type": "text",
    "id": "Bxmi8yOgn2on"
   },
   "source": [
    "Print the confusion matrix\n",
    "\n"
   ]
  },
  {
   "cell_type": "code",
   "execution_count": null,
   "metadata": {
    "colab": {
     "autoexec": {
      "startup": false,
      "wait_interval": 0
     }
    },
    "colab_type": "code",
    "id": "bRUeztQpn2op"
   },
   "outputs": [],
   "source": [
    "import seaborn as sns\n",
    "\n",
    "# Make predictions on test data\n",
    "cm = metrics.confusion_matrix(expected, predicted)\n",
    "cm_normalized = cm.astype('float') / cm.sum(axis=1)[:, np.newaxis]\n",
    "\n",
    "plt.figure(figsize=(9,9))\n",
    "sns.heatmap(cm_normalized, annot=True, fmt=\".3f\", linewidths=.5, square = True, cmap = 'Blues_r');\n",
    "plt.ylabel('Actual label');\n",
    "plt.xlabel('Predicted label');\n",
    "all_sample_title = 'Accuracy Score: {:.3f}'.format(score) \n",
    "plt.title(all_sample_title, size = 15);"
   ]
  }
 ],
 "metadata": {
  "colab": {
   "collapsed_sections": [],
   "default_view": {},
   "name": "MNIST_LogisticRegression_classification.ipynb",
   "provenance": [],
   "version": "0.3.2",
   "views": {}
  },
  "kernelspec": {
   "display_name": "Python 2",
   "language": "python",
   "name": "python2"
  },
  "language_info": {
   "codemirror_mode": {
    "name": "ipython",
    "version": 2
   },
   "file_extension": ".py",
   "mimetype": "text/x-python",
   "name": "python",
   "nbconvert_exporter": "python",
   "pygments_lexer": "ipython2",
   "version": "2.7.13"
  }
 },
 "nbformat": 4,
 "nbformat_minor": 2
}
