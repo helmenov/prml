{
  "nbformat": 4,
  "nbformat_minor": 0,
  "metadata": {
    "colab": {
      "name": "digits_knn_classification.ipynb",
      "provenance": [],
      "collapsed_sections": [],
      "include_colab_link": true
    },
    "kernelspec": {
      "name": "python3",
      "display_name": "Python 3"
    }
  },
  "cells": [
    {
      "cell_type": "markdown",
      "metadata": {
        "id": "view-in-github",
        "colab_type": "text"
      },
      "source": [
        "<a href=\"https://colab.research.google.com/github/tsakailab/prml/blob/master/ipynb/digits_knn_classification.ipynb\" target=\"_parent\"><img src=\"https://colab.research.google.com/assets/colab-badge.svg\" alt=\"Open In Colab\"/></a>"
      ]
    },
    {
      "cell_type": "code",
      "metadata": {
        "colab_type": "code",
        "id": "YxG9BhBAn2nx",
        "colab": {}
      },
      "source": [
        "%matplotlib inline"
      ],
      "execution_count": 0,
      "outputs": []
    },
    {
      "cell_type": "markdown",
      "metadata": {
        "colab_type": "text",
        "id": "UTNIg2oEn2n8"
      },
      "source": [
        "\n",
        "Nearest neighbor classification of the digits dataset\n",
        "=============================================================\n",
        "\n",
        "Plot the first few samples of the digits dataset, then perform the k-nearest neibor classification\n",
        "\n"
      ]
    },
    {
      "cell_type": "code",
      "metadata": {
        "colab_type": "code",
        "id": "SmeXiuhWn2n-",
        "colab": {}
      },
      "source": [
        "from sklearn.datasets import load_digits\n",
        "digits = load_digits()"
      ],
      "execution_count": 0,
      "outputs": []
    },
    {
      "cell_type": "markdown",
      "metadata": {
        "colab_type": "text",
        "id": "FWmkMoJrn2oH"
      },
      "source": [
        "Plot the data: images of digits\n",
        "-------------------------------\n",
        "\n",
        "Each data in a 8x8 image\n",
        "\n"
      ]
    },
    {
      "cell_type": "code",
      "metadata": {
        "colab_type": "code",
        "id": "E7Ib1PU2n2oK",
        "colab": {}
      },
      "source": [
        "from matplotlib import pyplot as plt\n",
        "fig = plt.figure(figsize=(6, 6))  # figure size in inches\n",
        "fig.subplots_adjust(left=0, right=1, bottom=0, top=1, hspace=0.05, wspace=0.05)\n",
        "print(\"%d images\" % len(digits.target))\n",
        "\n",
        "for i in range(64):\n",
        "    ax = fig.add_subplot(8, 8, i + 1, xticks=[], yticks=[])\n",
        "    ax.imshow(digits.images[i], cmap=plt.cm.gray, interpolation='nearest')\n",
        "    # label the image with the target value\n",
        "    ax.text(0, 7, str(digits.target[i]), color='white')"
      ],
      "execution_count": 0,
      "outputs": []
    },
    {
      "cell_type": "markdown",
      "metadata": {
        "colab_type": "text",
        "id": "UQFrBwjAn2oS"
      },
      "source": [
        "Classify with k-nearest neighbors\n",
        "----------------------------------\n",
        "\n"
      ]
    },
    {
      "cell_type": "code",
      "metadata": {
        "colab_type": "code",
        "id": "EgIqtl7Yn2oU",
        "colab": {}
      },
      "source": [
        "from sklearn import neighbors, datasets\n",
        "from sklearn.model_selection import train_test_split\n",
        "\n",
        "# split the data into training and validation sets\n",
        "X_train, X_test, y_train, y_test = train_test_split(digits.data, digits.target)\n",
        "\n",
        "# train the model\n",
        "k = 1   # try k = 1, 3, 7, 15, 31\n",
        "clf = neighbors.KNeighborsClassifier(n_neighbors = k)\n",
        "clf.fit(X_train, y_train)\n",
        "\n",
        "# use the model to predict the labels of the test data\n",
        "predicted = clf.predict(X_test)\n",
        "expected = y_test\n",
        "\n",
        "# Plot the prediction\n",
        "fig = plt.figure(figsize=(6, 6))  # figure size in inches\n",
        "fig.subplots_adjust(left=0, right=1, bottom=0, top=1, hspace=0.05, wspace=0.05)\n",
        "\n",
        "# plot the digits: each image is 8x8 pixels\n",
        "for i in range(64):\n",
        "    ax = fig.add_subplot(8, 8, i + 1, xticks=[], yticks=[])\n",
        "    ax.imshow(X_test.reshape(-1, 8, 8)[i], cmap=plt.cm.gray,\n",
        "              interpolation='nearest')\n",
        "\n",
        "    # label the image with the target value\n",
        "    ax.text(0, 7, str(expected[i]), color='white')\n",
        "    if predicted[i] == expected[i]:\n",
        "        ax.text(6, 7, str(predicted[i]), color='#a0ffa0')\n",
        "    else:\n",
        "        ax.text(6, 7, str(predicted[i]), color='red')\n",
        "\n",
        "# the number of correct matches / the total number of data points\n",
        "matches = (predicted == expected)\n",
        "print(\"%d / %d = %2.1f %%\" % (matches.sum(), len(matches), 100*matches.sum()/float(len(matches))))"
      ],
      "execution_count": 0,
      "outputs": []
    },
    {
      "cell_type": "markdown",
      "metadata": {
        "colab_type": "text",
        "id": "hBV1KmWTn2oa"
      },
      "source": [
        "Quantify the performance detail\n",
        "------------------------\n",
        "\n"
      ]
    },
    {
      "cell_type": "markdown",
      "metadata": {
        "colab_type": "text",
        "id": "q8Q9Hvw3n2oc"
      },
      "source": [
        "Print the classification report\n",
        "\n"
      ]
    },
    {
      "cell_type": "code",
      "metadata": {
        "colab_type": "code",
        "id": "is9z76Bdn2oe",
        "colab": {}
      },
      "source": [
        "from sklearn import metrics\n",
        "print(metrics.classification_report(expected, predicted))"
      ],
      "execution_count": 0,
      "outputs": []
    },
    {
      "cell_type": "markdown",
      "metadata": {
        "colab_type": "text",
        "id": "Bxmi8yOgn2on"
      },
      "source": [
        "Print the confusion matrix\n",
        "\n"
      ]
    },
    {
      "cell_type": "code",
      "metadata": {
        "colab_type": "code",
        "id": "bRUeztQpn2op",
        "colab": {}
      },
      "source": [
        "print(metrics.confusion_matrix(expected, predicted))\n",
        "\n",
        "plt.show()"
      ],
      "execution_count": 0,
      "outputs": []
    }
  ]
}