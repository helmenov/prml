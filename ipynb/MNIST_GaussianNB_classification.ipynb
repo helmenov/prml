{
  "nbformat": 4,
  "nbformat_minor": 0,
  "metadata": {
    "colab": {
      "provenance": [],
      "collapsed_sections": [],
      "include_colab_link": true
    },
    "kernelspec": {
      "name": "python3",
      "display_name": "Python 3"
    }
  },
  "cells": [
    {
      "cell_type": "markdown",
      "metadata": {
        "id": "view-in-github",
        "colab_type": "text"
      },
      "source": [
        "<a href=\"https://colab.research.google.com/github/tsakailab/prml/blob/master/ipynb/MNIST_GaussianNB_classification.ipynb\" target=\"_parent\"><img src=\"https://colab.research.google.com/assets/colab-badge.svg\" alt=\"Open In Colab\"/></a>"
      ]
    },
    {
      "cell_type": "code",
      "metadata": {
        "id": "YxG9BhBAn2nx"
      },
      "source": [
        "%matplotlib inline"
      ],
      "execution_count": null,
      "outputs": []
    },
    {
      "cell_type": "markdown",
      "metadata": {
        "id": "J3TUZCRcm5zi"
      },
      "source": [
        "Gaussian naive Bayes classification of the MNIST digits dataset\n",
        "============================================================="
      ]
    },
    {
      "cell_type": "markdown",
      "metadata": {
        "id": "UTNIg2oEn2n8"
      },
      "source": [
        "\n",
        "Fetch the MNIST digits dataset\n",
        "------------------------------------\n",
        "If fail, retry after rebooting the runtime or kernel."
      ]
    },
    {
      "cell_type": "code",
      "metadata": {
        "id": "SmeXiuhWn2n-"
      },
      "source": [
        "import numpy as np\n",
        "import pandas as pd\n",
        "mnist = pd.read_csv('/content/sample_data/mnist_test.csv', header=None)\n",
        "#mnist = pd.read_csv('https://github.com/tsakailab/prml/raw/master/datasets/mnist_test.csv', header=None)\n",
        "\n",
        "y = mnist.iloc[:,0].to_numpy()\n",
        "Ximages = mnist.drop(columns=0).to_numpy().reshape(-1,28,28)\n",
        "print(\"(#images, height, width)\", Ximages.shape)\n",
        "\n",
        "X = np.reshape(Ximages, (Ximages.shape[0],-1))\n",
        "print(\"X.shape = \", X.shape)\n",
        "\n",
        "X = X / X.max()\n",
        "y = np.int64(y)\n",
        "\n",
        "c = 10\n",
        "lbl = range(c)"
      ],
      "execution_count": null,
      "outputs": []
    },
    {
      "cell_type": "markdown",
      "metadata": {
        "id": "FWmkMoJrn2oH"
      },
      "source": [
        "Plot the data: images of digits\n",
        "-------------------------------\n"
      ]
    },
    {
      "cell_type": "code",
      "metadata": {
        "id": "E7Ib1PU2n2oK"
      },
      "source": [
        "from matplotlib import pyplot as plt\n",
        "fig = plt.figure(figsize=(6, 6))  # figure size in inches\n",
        "fig.subplots_adjust(left=0, right=1, bottom=0, top=1, hspace=0.05, wspace=0.05)\n",
        "print(\"64 out of %d images\" % len(y))\n",
        "\n",
        "p = np.random.randint(0, len(y), 64)\n",
        "for i in range(64):\n",
        "    ax = fig.add_subplot(8, 8, i + 1, xticks=[], yticks=[])\n",
        "    ax.imshow(Ximages[p[i]], cmap=plt.cm.gray)\n",
        "    # label the image with the target value\n",
        "    ax.text(0, 7, str(y[p[i]]), color='white')"
      ],
      "execution_count": null,
      "outputs": []
    },
    {
      "cell_type": "markdown",
      "metadata": {
        "id": "76r4Ic8VAj_g"
      },
      "source": [
        "Choose two classes if you enjoy binary classification\n",
        "-----------------------------------------------------------------\n",
        "Skip this cell for ten classes."
      ]
    },
    {
      "cell_type": "code",
      "metadata": {
        "id": "EVowqB1Z_Pcs"
      },
      "source": [
        "c = 2\n",
        "pos = 1 # choose from 0 to 9\n",
        "neg = 0 # choose from 0 to 9\n",
        "\n",
        "X = X[np.logical_or(y == pos, y == neg),:]\n",
        "y = y[np.logical_or(y == pos, y == neg)]\n",
        "yp, yn = y == pos, y== neg\n",
        "y[yp] = 1\n",
        "y[yn] = 0\n",
        "lbl = [neg, pos]"
      ],
      "execution_count": null,
      "outputs": []
    },
    {
      "cell_type": "markdown",
      "metadata": {
        "id": "4K4_PPXUrNUX"
      },
      "source": [
        "Split the data into training and test sets\n",
        "--------------------------------------------------"
      ]
    },
    {
      "cell_type": "code",
      "metadata": {
        "id": "8wAC7L19rJWR"
      },
      "source": [
        "from sklearn.model_selection import train_test_split\n",
        "\n",
        "# split the data into training and validation sets\n",
        "X_train, X_test, y_train, y_test = train_test_split(X, y, test_size=0.2)\n",
        "if len(y_test) > 2000:\n",
        "    X_test = X_test[:2000,:]\n",
        "    y_test = y_test[:2000]\n",
        "\n",
        "print(\"(#training data, dim.)=\", X_train.shape)\n",
        "print(\"(#test data,)=\", X_test.shape)"
      ],
      "execution_count": null,
      "outputs": []
    },
    {
      "cell_type": "markdown",
      "metadata": {
        "id": "UQFrBwjAn2oS"
      },
      "source": [
        "Run the training\n",
        "---------------------------------\n",
        "\n"
      ]
    },
    {
      "cell_type": "code",
      "metadata": {
        "id": "EgIqtl7Yn2oU"
      },
      "source": [
        "# Gaussian Naive Bayes\n",
        "from sklearn.naive_bayes import GaussianNB\n",
        "\n",
        "clf = GaussianNB()\n",
        "clf.fit(X_train, y_train)\n",
        "\n",
        "#number of classes\n",
        "print(\"# of classes: \", len(clf.class_count_))\n",
        "\n",
        "#probability of each class\n",
        "print(\"Prior probs: \", clf.class_prior_)"
      ],
      "execution_count": null,
      "outputs": []
    },
    {
      "cell_type": "code",
      "metadata": {
        "id": "3aOkEZvFtNrN"
      },
      "source": [
        "# use the model to predict the labels of the test data\n",
        "predicted = clf.predict(X_test)\n",
        "expected = y_test\n",
        "\n",
        "# Plot the prediction\n",
        "fig = plt.figure(figsize=(6, 6))  # figure size in inches\n",
        "fig.subplots_adjust(left=0, right=1, bottom=0, top=1, hspace=0.05, wspace=0.05)\n",
        "\n",
        "# plot the digits\n",
        "idx64 = np.random.choice(len(y_test), 64, replace=False)\n",
        "for j in range(64):\n",
        "    i = idx64[j]\n",
        "    ax = fig.add_subplot(8, 8, j + 1, xticks=[], yticks=[])\n",
        "    ax.imshow(X_test.reshape(-1, Ximages.shape[1], Ximages.shape[2])[i], cmap=plt.cm.gray)\n",
        "\n",
        "    # label the image with the target value\n",
        "    ax.text(0, 7, str(lbl[expected[i]]), color='white')\n",
        "    if predicted[i] == expected[i]:\n",
        "        ax.text(21, 7, str(lbl[predicted[i]]), color='#a0ffa0')\n",
        "    else:\n",
        "        ax.text(21, 7, str(lbl[predicted[i]]), color='red')\n",
        "\n",
        "# the number of correct matches / the total number of data points\n",
        "matches = (predicted == expected)\n",
        "score = matches.sum()/float(len(matches))\n",
        "print(\"%d / %d = %2.1f %%\" % (matches.sum(), len(matches), 100*score))"
      ],
      "execution_count": null,
      "outputs": []
    },
    {
      "cell_type": "markdown",
      "metadata": {
        "id": "hBV1KmWTn2oa"
      },
      "source": [
        "Quantify the performance detail\n",
        "------------------------\n",
        "Print the classification report"
      ]
    },
    {
      "cell_type": "code",
      "metadata": {
        "id": "is9z76Bdn2oe"
      },
      "source": [
        "from sklearn import metrics\n",
        "print(metrics.classification_report(expected, predicted))"
      ],
      "execution_count": null,
      "outputs": []
    },
    {
      "cell_type": "markdown",
      "metadata": {
        "id": "Bxmi8yOgn2on"
      },
      "source": [
        "Print the confusion matrix\n",
        "\n"
      ]
    },
    {
      "cell_type": "code",
      "metadata": {
        "id": "bRUeztQpn2op"
      },
      "source": [
        "import seaborn as sns\n",
        "\n",
        "# Make predictions on test data\n",
        "cm = metrics.confusion_matrix(expected, predicted)\n",
        "cm_normalized = cm.astype('float') / cm.sum(axis=1)[:, np.newaxis]\n",
        "\n",
        "plt.figure(figsize=(9,9))\n",
        "sns.heatmap(cm_normalized, annot=True, fmt=\".3f\", linewidths=.5, square = True, cmap = 'Blues_r');\n",
        "plt.ylabel('Actual label');\n",
        "plt.xlabel('Predicted label');\n",
        "all_sample_title = 'Accuracy Score: {:.3f}'.format(score) \n",
        "plt.title(all_sample_title, size = 15);"
      ],
      "execution_count": null,
      "outputs": []
    }
  ]
}